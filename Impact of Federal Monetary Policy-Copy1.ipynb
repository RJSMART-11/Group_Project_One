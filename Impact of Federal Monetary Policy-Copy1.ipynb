{
 "cells": [
  {
   "cell_type": "markdown",
   "id": "cec4c1f0-7fae-4c03-aeeb-df351dff0ec8",
   "metadata": {},
   "source": [
    "Impact of Federal Monetary Policy on Investments"
   ]
  },
  {
   "cell_type": "code",
   "execution_count": 1,
   "id": "895036aa-3744-4399-a257-cbadf1ed20da",
   "metadata": {},
   "outputs": [
    {
     "name": "stderr",
     "output_type": "stream",
     "text": [
      "/Users/robertjonathonsmart/opt/anaconda3/envs/dev/lib/python3.7/site-packages/pyfolio/pos.py:27: UserWarning: Module \"zipline.assets\" not found; multipliers will not be applied to position notionals.\n",
      "  'Module \"zipline.assets\" not found; multipliers will not be applied'\n"
     ]
    }
   ],
   "source": [
    "# Initial imports\n",
    "import os\n",
    "import requests\n",
    "import numpy as np\n",
    "import pandas as pd\n",
    "from dotenv import load_dotenv\n",
    "import alpaca_trade_api as tradeapi\n",
    "import json\n",
    "import pyfolio as pf\n",
    "\n",
    "%matplotlib inline"
   ]
  },
  {
   "cell_type": "code",
   "execution_count": 35,
   "id": "973819ba-8564-4db5-bdda-8c6adb6f9e1d",
   "metadata": {},
   "outputs": [
    {
     "data": {
      "text/html": [
       "<div>\n",
       "<style scoped>\n",
       "    .dataframe tbody tr th:only-of-type {\n",
       "        vertical-align: middle;\n",
       "    }\n",
       "\n",
       "    .dataframe tbody tr th {\n",
       "        vertical-align: top;\n",
       "    }\n",
       "\n",
       "    .dataframe thead th {\n",
       "        text-align: right;\n",
       "    }\n",
       "</style>\n",
       "<table border=\"1\" class=\"dataframe\">\n",
       "  <thead>\n",
       "    <tr style=\"text-align: right;\">\n",
       "      <th></th>\n",
       "      <th>shares</th>\n",
       "    </tr>\n",
       "  </thead>\n",
       "  <tbody>\n",
       "    <tr>\n",
       "      <th>NDAQ</th>\n",
       "      <td>200</td>\n",
       "    </tr>\n",
       "  </tbody>\n",
       "</table>\n",
       "</div>"
      ],
      "text/plain": [
       "      shares\n",
       "NDAQ     200"
      ]
     },
     "execution_count": 35,
     "metadata": {},
     "output_type": "execute_result"
    }
   ],
   "source": [
    "# Set current amount of shares data\n",
    "portfolio_data = {\n",
    "    \"shares\": [200]\n",
    "}\n",
    "\n",
    "# Set the tickers\n",
    "tickers = [\"NDAQ\"]\n",
    "\n",
    "# Create the shares DataFrame with `tickers` as index\n",
    "df_shares = pd.DataFrame(portfolio_data, index=tickers)\n",
    "\n",
    "# Display shares data\n",
    "df_shares"
   ]
  },
  {
   "cell_type": "code",
   "execution_count": 36,
   "id": "48337a35-09f4-4c35-ac4f-50e8e57ebe30",
   "metadata": {},
   "outputs": [
    {
     "data": {
      "text/plain": [
       "True"
      ]
     },
     "execution_count": 36,
     "metadata": {},
     "output_type": "execute_result"
    }
   ],
   "source": [
    "# Load .env environment variables\n",
    "load_dotenv()"
   ]
  },
  {
   "cell_type": "code",
   "execution_count": 37,
   "id": "962fec20-8ac9-4c54-9cf2-815bb32c90d6",
   "metadata": {},
   "outputs": [],
   "source": [
    " # Set Alpaca API key and secret\n",
    "alpaca_api_key = os.getenv(\"ALPACA_API_KEY\")\n",
    "alpaca_secret_key = os.getenv(\"ALPACA_SECRET_KEY\")\n",
    "fred_api_key = os.getenv(\"FRED_API_KEY\")"
   ]
  },
  {
   "cell_type": "code",
   "execution_count": 38,
   "id": "f9f9d1ed-c3dd-4456-b025-b45fc80f1aa1",
   "metadata": {},
   "outputs": [
    {
     "name": "stdout",
     "output_type": "stream",
     "text": [
      "Alpaca Key type: <class 'str'>\n",
      "Alpaca Secret Key type: <class 'str'>\n",
      "Fred Key type: <class 'str'>\n"
     ]
    }
   ],
   "source": [
    "# Verify that Alpaca key and secret were correctly loaded\n",
    "print(f\"Alpaca Key type: {type(alpaca_api_key)}\")\n",
    "print(f\"Alpaca Secret Key type: {type(alpaca_secret_key)}\")\n",
    "print(f\"Fred Key type: {type(fred_api_key)}\")"
   ]
  },
  {
   "cell_type": "code",
   "execution_count": 39,
   "id": "ecf032cd-7c23-4ed6-937f-f34427fcc1ad",
   "metadata": {},
   "outputs": [
    {
     "ename": "NameError",
     "evalue": "name 'tradeapi' is not defined",
     "output_type": "error",
     "traceback": [
      "\u001b[0;31m---------------------------------------------------------------------------\u001b[0m",
      "\u001b[0;31mNameError\u001b[0m                                 Traceback (most recent call last)",
      "Input \u001b[0;32mIn [39]\u001b[0m, in \u001b[0;36m<cell line: 2>\u001b[0;34m()\u001b[0m\n\u001b[1;32m      1\u001b[0m \u001b[38;5;66;03m# Create the Alpaca API object\u001b[39;00m\n\u001b[0;32m----> 2\u001b[0m alpaca \u001b[38;5;241m=\u001b[39m \u001b[43mtradeapi\u001b[49m\u001b[38;5;241m.\u001b[39mREST(\n\u001b[1;32m      3\u001b[0m     alpaca_api_key,\n\u001b[1;32m      4\u001b[0m     alpaca_secret_key,\n\u001b[1;32m      5\u001b[0m     api_version\u001b[38;5;241m=\u001b[39m\u001b[38;5;124m\"\u001b[39m\u001b[38;5;124mv2\u001b[39m\u001b[38;5;124m\"\u001b[39m)\n",
      "\u001b[0;31mNameError\u001b[0m: name 'tradeapi' is not defined"
     ]
    }
   ],
   "source": [
    "# Create the Alpaca API object\n",
    "alpaca = tradeapi.REST(\n",
    "    alpaca_api_key,\n",
    "    alpaca_secret_key,\n",
    "    api_version=\"v2\")"
   ]
  },
  {
   "cell_type": "code",
   "execution_count": 40,
   "id": "e41f2829-069b-48be-8ba7-9262d5bcacd8",
   "metadata": {},
   "outputs": [],
   "source": [
    "# Format current date as ISO format\n",
    "today = pd.Timestamp(\"2022-08-09\", tz=\"America/New_York\").isoformat() \n",
    "start_date = pd.Timestamp(\"2000-08-09\", tz=\"America/New_York\").isoformat() "
   ]
  },
  {
   "cell_type": "code",
   "execution_count": 41,
   "id": "a785028b-4466-4c5d-aab1-5cd1e3990903",
   "metadata": {},
   "outputs": [],
   "source": [
    "# Set timeframe to one day ('1Day') for the Alpaca API\n",
    "timeframe = \"1Month\""
   ]
  },
  {
   "cell_type": "code",
   "execution_count": 42,
   "id": "c0daf94d-fa7d-4453-92aa-26e521c31cf5",
   "metadata": {},
   "outputs": [
    {
     "ename": "NameError",
     "evalue": "name 'alpaca' is not defined",
     "output_type": "error",
     "traceback": [
      "\u001b[0;31m---------------------------------------------------------------------------\u001b[0m",
      "\u001b[0;31mNameError\u001b[0m                                 Traceback (most recent call last)",
      "Input \u001b[0;32mIn [42]\u001b[0m, in \u001b[0;36m<cell line: 2>\u001b[0;34m()\u001b[0m\n\u001b[1;32m      1\u001b[0m \u001b[38;5;66;03m# Get current price data for S&P500\u001b[39;00m\n\u001b[0;32m----> 2\u001b[0m df_portfolio \u001b[38;5;241m=\u001b[39m \u001b[43malpaca\u001b[49m\u001b[38;5;241m.\u001b[39mget_bars(\n\u001b[1;32m      3\u001b[0m     tickers,\n\u001b[1;32m      4\u001b[0m     timeframe,\n\u001b[1;32m      5\u001b[0m     start \u001b[38;5;241m=\u001b[39m start_date,\n\u001b[1;32m      6\u001b[0m     end \u001b[38;5;241m=\u001b[39m today\n\u001b[1;32m      7\u001b[0m )\u001b[38;5;241m.\u001b[39mdf\n\u001b[1;32m      9\u001b[0m \u001b[38;5;66;03m# Reorganize the DataFrame\u001b[39;00m\n\u001b[1;32m     10\u001b[0m \u001b[38;5;66;03m# Separate ticker data\u001b[39;00m\n\u001b[1;32m     11\u001b[0m NDAQ \u001b[38;5;241m=\u001b[39m df_portfolio[df_portfolio[\u001b[38;5;124m'\u001b[39m\u001b[38;5;124msymbol\u001b[39m\u001b[38;5;124m'\u001b[39m]\u001b[38;5;241m==\u001b[39m\u001b[38;5;124m'\u001b[39m\u001b[38;5;124mNDAQ\u001b[39m\u001b[38;5;124m'\u001b[39m]\u001b[38;5;241m.\u001b[39mdrop(\u001b[38;5;124m'\u001b[39m\u001b[38;5;124msymbol\u001b[39m\u001b[38;5;124m'\u001b[39m, axis\u001b[38;5;241m=\u001b[39m\u001b[38;5;241m1\u001b[39m)\n",
      "\u001b[0;31mNameError\u001b[0m: name 'alpaca' is not defined"
     ]
    }
   ],
   "source": [
    "# Get current price data for S&P500\n",
    "df_portfolio = alpaca.get_bars(\n",
    "    tickers,\n",
    "    timeframe,\n",
    "    start = start_date,\n",
    "    end = today\n",
    ").df\n",
    "\n",
    "# Reorganize the DataFrame\n",
    "# Separate ticker data\n",
    "NDAQ = df_portfolio[df_portfolio['symbol']=='NDAQ'].drop('symbol', axis=1)\n",
    "\n",
    "\n",
    "# Display sample data\n",
    "df_portfolio"
   ]
  },
  {
   "cell_type": "markdown",
   "id": "0bccd855-21e1-4aca-8e09-ac5228f36a2b",
   "metadata": {},
   "source": [
    "Read in  Market Yield on U.S. Treasury Securities at 2-Year Constant Maturity, Quoted on an Investment Basis"
   ]
  },
  {
   "cell_type": "code",
   "execution_count": 43,
   "id": "532b0115-af57-4f9d-8c57-bb18bc5cb50b",
   "metadata": {},
   "outputs": [],
   "source": [
    "# Define the base request URL\n",
    "request_url = \"https://api.stlouisfed.org/fred/series/observations?series_id=DGS2&api_key=\"\n",
    "\n",
    "# Concatenate request_url and api_key. Store as new variable\n",
    "request_url = request_url + fred_api_key + \"&file_type=json\""
   ]
  },
  {
   "cell_type": "code",
   "execution_count": 44,
   "id": "b6365eb1-66aa-4be3-b405-8d26ce123789",
   "metadata": {},
   "outputs": [
    {
     "data": {
      "text/html": [
       "<div>\n",
       "<style scoped>\n",
       "    .dataframe tbody tr th:only-of-type {\n",
       "        vertical-align: middle;\n",
       "    }\n",
       "\n",
       "    .dataframe tbody tr th {\n",
       "        vertical-align: top;\n",
       "    }\n",
       "\n",
       "    .dataframe thead th {\n",
       "        text-align: right;\n",
       "    }\n",
       "</style>\n",
       "<table border=\"1\" class=\"dataframe\">\n",
       "  <thead>\n",
       "    <tr style=\"text-align: right;\">\n",
       "      <th></th>\n",
       "      <th>realtime_start</th>\n",
       "      <th>realtime_end</th>\n",
       "      <th>date</th>\n",
       "      <th>value</th>\n",
       "    </tr>\n",
       "  </thead>\n",
       "  <tbody>\n",
       "    <tr>\n",
       "      <th>0</th>\n",
       "      <td>2022-09-30</td>\n",
       "      <td>2022-09-30</td>\n",
       "      <td>1976-06-01</td>\n",
       "      <td>7.260</td>\n",
       "    </tr>\n",
       "    <tr>\n",
       "      <th>1</th>\n",
       "      <td>2022-09-30</td>\n",
       "      <td>2022-09-30</td>\n",
       "      <td>1976-06-02</td>\n",
       "      <td>7.230</td>\n",
       "    </tr>\n",
       "    <tr>\n",
       "      <th>2</th>\n",
       "      <td>2022-09-30</td>\n",
       "      <td>2022-09-30</td>\n",
       "      <td>1976-06-03</td>\n",
       "      <td>7.220</td>\n",
       "    </tr>\n",
       "    <tr>\n",
       "      <th>3</th>\n",
       "      <td>2022-09-30</td>\n",
       "      <td>2022-09-30</td>\n",
       "      <td>1976-06-04</td>\n",
       "      <td>7.120</td>\n",
       "    </tr>\n",
       "    <tr>\n",
       "      <th>4</th>\n",
       "      <td>2022-09-30</td>\n",
       "      <td>2022-09-30</td>\n",
       "      <td>1976-06-07</td>\n",
       "      <td>7.090</td>\n",
       "    </tr>\n",
       "    <tr>\n",
       "      <th>...</th>\n",
       "      <td>...</td>\n",
       "      <td>...</td>\n",
       "      <td>...</td>\n",
       "      <td>...</td>\n",
       "    </tr>\n",
       "    <tr>\n",
       "      <th>12083</th>\n",
       "      <td>2022-09-30</td>\n",
       "      <td>2022-09-30</td>\n",
       "      <td>2022-09-23</td>\n",
       "      <td>4.20</td>\n",
       "    </tr>\n",
       "    <tr>\n",
       "      <th>12084</th>\n",
       "      <td>2022-09-30</td>\n",
       "      <td>2022-09-30</td>\n",
       "      <td>2022-09-26</td>\n",
       "      <td>4.27</td>\n",
       "    </tr>\n",
       "    <tr>\n",
       "      <th>12085</th>\n",
       "      <td>2022-09-30</td>\n",
       "      <td>2022-09-30</td>\n",
       "      <td>2022-09-27</td>\n",
       "      <td>4.30</td>\n",
       "    </tr>\n",
       "    <tr>\n",
       "      <th>12086</th>\n",
       "      <td>2022-09-30</td>\n",
       "      <td>2022-09-30</td>\n",
       "      <td>2022-09-28</td>\n",
       "      <td>4.07</td>\n",
       "    </tr>\n",
       "    <tr>\n",
       "      <th>12087</th>\n",
       "      <td>2022-09-30</td>\n",
       "      <td>2022-09-30</td>\n",
       "      <td>2022-09-29</td>\n",
       "      <td>4.16</td>\n",
       "    </tr>\n",
       "  </tbody>\n",
       "</table>\n",
       "<p>12088 rows × 4 columns</p>\n",
       "</div>"
      ],
      "text/plain": [
       "      realtime_start realtime_end        date  value\n",
       "0         2022-09-30   2022-09-30  1976-06-01  7.260\n",
       "1         2022-09-30   2022-09-30  1976-06-02  7.230\n",
       "2         2022-09-30   2022-09-30  1976-06-03  7.220\n",
       "3         2022-09-30   2022-09-30  1976-06-04  7.120\n",
       "4         2022-09-30   2022-09-30  1976-06-07  7.090\n",
       "...              ...          ...         ...    ...\n",
       "12083     2022-09-30   2022-09-30  2022-09-23   4.20\n",
       "12084     2022-09-30   2022-09-30  2022-09-26   4.27\n",
       "12085     2022-09-30   2022-09-30  2022-09-27   4.30\n",
       "12086     2022-09-30   2022-09-30  2022-09-28   4.07\n",
       "12087     2022-09-30   2022-09-30  2022-09-29   4.16\n",
       "\n",
       "[12088 rows x 4 columns]"
      ]
     },
     "execution_count": 44,
     "metadata": {},
     "output_type": "execute_result"
    }
   ],
   "source": [
    "# Execute get request\n",
    "import json\n",
    "response_data = requests.get(request_url).json()\n",
    "yield_value = pd.DataFrame(response_data['observations'])\n",
    "yield_value"
   ]
  },
  {
   "cell_type": "code",
   "execution_count": 45,
   "id": "1ac27dc3-fa65-4bbf-bc07-1f6615f26790",
   "metadata": {},
   "outputs": [
    {
     "data": {
      "text/html": [
       "<div>\n",
       "<style scoped>\n",
       "    .dataframe tbody tr th:only-of-type {\n",
       "        vertical-align: middle;\n",
       "    }\n",
       "\n",
       "    .dataframe tbody tr th {\n",
       "        vertical-align: top;\n",
       "    }\n",
       "\n",
       "    .dataframe thead th {\n",
       "        text-align: right;\n",
       "    }\n",
       "</style>\n",
       "<table border=\"1\" class=\"dataframe\">\n",
       "  <thead>\n",
       "    <tr style=\"text-align: right;\">\n",
       "      <th></th>\n",
       "      <th>value</th>\n",
       "    </tr>\n",
       "    <tr>\n",
       "      <th>date</th>\n",
       "      <th></th>\n",
       "    </tr>\n",
       "  </thead>\n",
       "  <tbody>\n",
       "    <tr>\n",
       "      <th>1976-06-01</th>\n",
       "      <td>7.26</td>\n",
       "    </tr>\n",
       "    <tr>\n",
       "      <th>1976-06-02</th>\n",
       "      <td>7.23</td>\n",
       "    </tr>\n",
       "    <tr>\n",
       "      <th>1976-06-03</th>\n",
       "      <td>7.22</td>\n",
       "    </tr>\n",
       "    <tr>\n",
       "      <th>1976-06-04</th>\n",
       "      <td>7.12</td>\n",
       "    </tr>\n",
       "    <tr>\n",
       "      <th>1976-06-07</th>\n",
       "      <td>7.09</td>\n",
       "    </tr>\n",
       "    <tr>\n",
       "      <th>...</th>\n",
       "      <td>...</td>\n",
       "    </tr>\n",
       "    <tr>\n",
       "      <th>2022-09-23</th>\n",
       "      <td>4.20</td>\n",
       "    </tr>\n",
       "    <tr>\n",
       "      <th>2022-09-26</th>\n",
       "      <td>4.27</td>\n",
       "    </tr>\n",
       "    <tr>\n",
       "      <th>2022-09-27</th>\n",
       "      <td>4.30</td>\n",
       "    </tr>\n",
       "    <tr>\n",
       "      <th>2022-09-28</th>\n",
       "      <td>4.07</td>\n",
       "    </tr>\n",
       "    <tr>\n",
       "      <th>2022-09-29</th>\n",
       "      <td>4.16</td>\n",
       "    </tr>\n",
       "  </tbody>\n",
       "</table>\n",
       "<p>12088 rows × 1 columns</p>\n",
       "</div>"
      ],
      "text/plain": [
       "            value\n",
       "date             \n",
       "1976-06-01   7.26\n",
       "1976-06-02   7.23\n",
       "1976-06-03   7.22\n",
       "1976-06-04   7.12\n",
       "1976-06-07   7.09\n",
       "...           ...\n",
       "2022-09-23   4.20\n",
       "2022-09-26   4.27\n",
       "2022-09-27   4.30\n",
       "2022-09-28   4.07\n",
       "2022-09-29   4.16\n",
       "\n",
       "[12088 rows x 1 columns]"
      ]
     },
     "execution_count": 45,
     "metadata": {},
     "output_type": "execute_result"
    }
   ],
   "source": [
    "#Drop columns and set date as index and fix data types\n",
    "yield_value['value'] = pd.to_numeric(yield_value['value'], errors='coerce')\n",
    "yield_value = yield_value.drop(['realtime_start','realtime_end'],  axis=1)\n",
    "yield_value.set_index(['date'])"
   ]
  },
  {
   "cell_type": "code",
   "execution_count": 48,
   "id": "0ea10e20-c1d7-47e8-b46d-20063126fe24",
   "metadata": {},
   "outputs": [
    {
     "ename": "AttributeError",
     "evalue": "'DataFrame' object has no attribute 'create_returns_tear_sheet'",
     "output_type": "error",
     "traceback": [
      "\u001b[0;31m---------------------------------------------------------------------------\u001b[0m",
      "\u001b[0;31mAttributeError\u001b[0m                            Traceback (most recent call last)",
      "Input \u001b[0;32mIn [48]\u001b[0m, in \u001b[0;36m<cell line: 1>\u001b[0;34m()\u001b[0m\n\u001b[0;32m----> 1\u001b[0m \u001b[43myield_value\u001b[49m\u001b[38;5;241;43m.\u001b[39;49m\u001b[43mcreate_returns_tear_sheet\u001b[49m(yield_value[\u001b[38;5;124m'\u001b[39m\u001b[38;5;124mcol\u001b[39m\u001b[38;5;124m'\u001b[39m])\n",
      "File \u001b[0;32m~/opt/anaconda3/lib/python3.9/site-packages/pandas/core/generic.py:5575\u001b[0m, in \u001b[0;36mNDFrame.__getattr__\u001b[0;34m(self, name)\u001b[0m\n\u001b[1;32m   5568\u001b[0m \u001b[38;5;28;01mif\u001b[39;00m (\n\u001b[1;32m   5569\u001b[0m     name \u001b[38;5;129;01mnot\u001b[39;00m \u001b[38;5;129;01min\u001b[39;00m \u001b[38;5;28mself\u001b[39m\u001b[38;5;241m.\u001b[39m_internal_names_set\n\u001b[1;32m   5570\u001b[0m     \u001b[38;5;129;01mand\u001b[39;00m name \u001b[38;5;129;01mnot\u001b[39;00m \u001b[38;5;129;01min\u001b[39;00m \u001b[38;5;28mself\u001b[39m\u001b[38;5;241m.\u001b[39m_metadata\n\u001b[1;32m   5571\u001b[0m     \u001b[38;5;129;01mand\u001b[39;00m name \u001b[38;5;129;01mnot\u001b[39;00m \u001b[38;5;129;01min\u001b[39;00m \u001b[38;5;28mself\u001b[39m\u001b[38;5;241m.\u001b[39m_accessors\n\u001b[1;32m   5572\u001b[0m     \u001b[38;5;129;01mand\u001b[39;00m \u001b[38;5;28mself\u001b[39m\u001b[38;5;241m.\u001b[39m_info_axis\u001b[38;5;241m.\u001b[39m_can_hold_identifiers_and_holds_name(name)\n\u001b[1;32m   5573\u001b[0m ):\n\u001b[1;32m   5574\u001b[0m     \u001b[38;5;28;01mreturn\u001b[39;00m \u001b[38;5;28mself\u001b[39m[name]\n\u001b[0;32m-> 5575\u001b[0m \u001b[38;5;28;01mreturn\u001b[39;00m \u001b[38;5;28;43mobject\u001b[39;49m\u001b[38;5;241;43m.\u001b[39;49m\u001b[38;5;21;43m__getattribute__\u001b[39;49m\u001b[43m(\u001b[49m\u001b[38;5;28;43mself\u001b[39;49m\u001b[43m,\u001b[49m\u001b[43m \u001b[49m\u001b[43mname\u001b[49m\u001b[43m)\u001b[49m\n",
      "\u001b[0;31mAttributeError\u001b[0m: 'DataFrame' object has no attribute 'create_returns_tear_sheet'"
     ]
    }
   ],
   "source": [
    "yield_value.create_returns_tear_sheet(yield_value['col'])\n"
   ]
  },
  {
   "cell_type": "code",
   "execution_count": 47,
   "id": "a5eca760-f37f-47e2-8f57-c004322b7527",
   "metadata": {},
   "outputs": [
    {
     "data": {
      "text/plain": [
       "<AxesSubplot:>"
      ]
     },
     "execution_count": 47,
     "metadata": {},
     "output_type": "execute_result"
    },
    {
     "data": {
      "image/png": "[encoded data removed]",
      "text/plain": [
       "<Figure size 432x288 with 1 Axes>"
      ]
     },
     "metadata": {
      "needs_background": "light"
     },
     "output_type": "display_data"
    }
   ],
   "source": [
    "#Plot US2Y\n",
    "yield_value.plot()\n"
   ]
  },
  {
   "cell_type": "code",
   "execution_count": null,
   "id": "1c1bba25-9d3f-49a3-a66a-4520845176f5",
   "metadata": {},
   "outputs": [],
   "source": []
  }
 ],
 "metadata": {
  "kernelspec": {
   "display_name": "Python 3 (ipykernel)",
   "language": "python",
   "name": "python3"
  },
  "language_info": {
   "codemirror_mode": {
    "name": "ipython",
    "version": 3
   },
   "file_extension": ".py",
   "mimetype": "text/x-python",
   "name": "python",
   "nbconvert_exporter": "python",
   "pygments_lexer": "ipython3",
   "version": "3.7.13"
  }
 },
 "nbformat": 4,
 "nbformat_minor": 5
}
